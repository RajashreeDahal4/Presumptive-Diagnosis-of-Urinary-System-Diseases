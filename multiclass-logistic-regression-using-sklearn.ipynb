{
 "cells": [
  {
   "cell_type": "code",
   "execution_count": 1,
   "metadata": {
    "_cell_guid": "79c7e3d0-c299-4dcb-8224-4455121ee9b0",
    "_uuid": "d629ff2d2480ee46fbb7e2d37f6b5fab8052498a"
   },
   "outputs": [],
   "source": [
    "import pandas as pd\n",
    "import numpy as np\n",
    "import matplotlib.pyplot as plt\n",
    "from sklearn import datasets\n",
    "from sklearn import model_selection\n",
    "from sklearn import linear_model\n",
    "from sklearn import metrics"
   ]
  },
  {
   "cell_type": "code",
   "execution_count": 2,
   "metadata": {},
   "outputs": [],
   "source": [
    "data=pd.read_csv('diagnosis.data',sep='\\t',encoding='utf-16',header=None,names=[\"Temperature\",\"Nausea\",\"Lumbar Pain\",\n",
    "                                                                                 \"Urine Pushing\",\"Micturition pains\",\"Burning\",\"Inflammation\",\"Nephritis\"])\n",
    "\n",
    "\n",
    "def temperature(temperature):\n",
    "    if ',' in temperature:\n",
    "        temperature=temperature.replace(',','.')\n",
    "    return temperature\n",
    "\n",
    "data[\"Temperature\"]=data.apply(lambda row:temperature(row[\"Temperature\"]),axis=1)\n",
    "\n",
    "data['Temperature']=data['Temperature'].astype('float')\n",
    "\n",
    "def boolean_conv(info):\n",
    "    if info=='no':\n",
    "        info=0\n",
    "    else:\n",
    "        info=1\n",
    "    return info\n",
    "\n",
    "\n",
    "data[\"Nausea\"]=data.apply(lambda row:boolean_conv(row[\"Nausea\"]),axis=1)\n",
    "data[\"Lumbar Pain\"]=data.apply(lambda row:boolean_conv(row[\"Lumbar Pain\"]),axis=1)\n",
    "data[\"Urine Pushing\"]=data.apply(lambda row:boolean_conv(row[\"Urine Pushing\"]),axis=1)\n",
    "data[\"Micturition pains\"]=data.apply(lambda row:boolean_conv(row[\"Micturition pains\"]),axis=1)\n",
    "data[\"Burning\"]=data.apply(lambda row:boolean_conv(row[\"Burning\"]),axis=1)\n",
    "data[\"Inflammation\"]=data.apply(lambda row:boolean_conv(row[\"Inflammation\"]),axis=1)\n",
    "data[\"Nephritis\"]=data.apply(lambda row:boolean_conv(row[\"Nephritis\"]),axis=1)\n",
    "\n",
    "nephritisAndInflamation=[]\n",
    "\n",
    "def addColumn(nephritis, inflamation):\n",
    "    onlyNephritis=[0 for i in range(len(nephritis))]\n",
    "    onlyInflamation=[0 for i in range(len(nephritis))]\n",
    "    bothNephritisAndInflamation=[0 for i in range(len(nephritis))]\n",
    "    none=[0 for i in range(len(nephritis))]\n",
    "    for i in range(len(nephritis)):\n",
    "        if nephritis[i]==1 and inflamation[i]==1:\n",
    "            bothNephritisAndInflamation[i]=1\n",
    "        elif nephritis[i]==0 and inflamation[i]==1:\n",
    "            onlyInflamation[i]=1\n",
    "        elif nephritis[i]==1 and inflamation[i]==0:\n",
    "            onlyNephritis[i]=1\n",
    "        else:\n",
    "            none[i]=1\n",
    "    return (onlyNephritis, onlyInflamation, bothNephritisAndInflamation, none)\n",
    "        \n",
    "            \n",
    "\n",
    "(onlyNephritis, onlyInflamation, bothNephritisAndInflamation, none) = addColumn(data[\"Nephritis\"], data[\"Inflammation\"])\n",
    "data[\"onlyNephritis\"]=onlyNephritis\n",
    "data[\"onlyInflammation\"]=onlyInflamation\n",
    "data[\"bothNephritisAndInflamation\"]=bothNephritisAndInflamation\n",
    "data[\"none\"]=none\n",
    "\n",
    "data=data.drop([\"Nephritis\", \"Inflammation\"], axis = 1)"
   ]
  },
  {
   "cell_type": "code",
   "execution_count": 3,
   "metadata": {},
   "outputs": [
    {
     "name": "stdout",
     "output_type": "stream",
     "text": [
      "[3 1 3 1 3 3 1 3 1 1 1 3 3 1 3 3 1 1 1 3 1 1 3 1 1 1 1 1 3 1 1 1 3 1 3 1 1\n",
      " 3 1 1 3 3 1 1 1 1 1 1 1 1 3 1 3 1 1 1 1 3 1 1 0 0 0 0 0 0 0 0 0 0 2 2 2 3\n",
      " 3 0 0 0 2 2 3 0 0 2 2 2 3 0 2 2 3 0 2 2 3 0 0 0 2 2 0 2 3 0 0 2 2 3 0 0 2\n",
      " 3 0 0 2 0 3 0 0 0]\n"
     ]
    },
    {
     "data": {
      "text/plain": [
       "pandas.core.frame.DataFrame"
      ]
     },
     "execution_count": 3,
     "metadata": {},
     "output_type": "execute_result"
    }
   ],
   "source": [
    "from sklearn.model_selection import train_test_split\n",
    "X = data[['Temperature', 'Nausea', 'Lumbar Pain', 'Urine Pushing', 'Micturition pains', 'Burning']]\n",
    "y = data[data.columns[6:10]]\n",
    "\n",
    "y=y.to_numpy()\n",
    "\n",
    "y = (y == 1).argmax(axis=1)\n",
    "print(y)\n",
    "\n",
    "ratio_test = 0.2\n",
    "\n",
    "# Produces test split.\n",
    "x_train, x_test, y_train, y_test = train_test_split(\n",
    "X, y, test_size=ratio_test, random_state=42, shuffle=True)\n",
    "type(x_train)\n",
    "# x_test.shape"
   ]
  },
  {
   "cell_type": "markdown",
   "metadata": {},
   "source": [
    "## Multi class Logistic Regression Using OVR\n",
    "* Since we are going to use One Vs Rest algorithm, set >  multi_class='ovr'\n",
    "* Note: since we are using One Vs Rest algorithm we must use 'liblinear' solver with it."
   ]
  },
  {
   "cell_type": "code",
   "execution_count": 4,
   "metadata": {},
   "outputs": [
    {
     "data": {
      "text/plain": [
       "LogisticRegression(multi_class='ovr', solver='liblinear')"
      ]
     },
     "execution_count": 4,
     "metadata": {},
     "output_type": "execute_result"
    }
   ],
   "source": [
    "\n",
    "# evaluate multinomial logistic regression model\n",
    "from numpy import mean\n",
    "from numpy import std\n",
    "from sklearn.datasets import make_classification\n",
    "from sklearn.model_selection import cross_val_score\n",
    "from sklearn.model_selection import RepeatedStratifiedKFold\n",
    "from sklearn.linear_model import LogisticRegression\n",
    "\n",
    "\n",
    "\n",
    "lm = linear_model.LogisticRegression(multi_class='ovr', solver='liblinear')\n",
    "lm.fit(x_train, y_train)\n"
   ]
  },
  {
   "cell_type": "markdown",
   "metadata": {},
   "source": [
    "## Model Score\n",
    "Check the model score using test data"
   ]
  },
  {
   "cell_type": "code",
   "execution_count": 6,
   "metadata": {},
   "outputs": [
    {
     "data": {
      "text/plain": [
       "1.0"
      ]
     },
     "execution_count": 6,
     "metadata": {},
     "output_type": "execute_result"
    }
   ],
   "source": [
    "lm.score(x_test, y_test)"
   ]
  },
  {
   "cell_type": "markdown",
   "metadata": {},
   "source": [
    "## Confusion Matrix\n",
    "* Confusion matrix helps to visualize the performance of the model\n",
    "* The diagonal elements represent the number of points for which the predicted label is equal to the true label\n",
    "* Off-diagonal elements are those that are mislabeled by the classifier.\n",
    "* The higher the diagonal values of the confusion matrix the better, indicating many correct\n",
    " \n",
    "Let's create confusion matrix using sklearn library and test data"
   ]
  },
  {
   "cell_type": "code",
   "execution_count": 11,
   "metadata": {},
   "outputs": [
    {
     "name": "stderr",
     "output_type": "stream",
     "text": [
      "/opt/anaconda3/lib/python3.9/site-packages/sklearn/utils/deprecation.py:87: FutureWarning: Function plot_confusion_matrix is deprecated; Function `plot_confusion_matrix` is deprecated in 1.0 and will be removed in 1.2. Use one of the class methods: ConfusionMatrixDisplay.from_predictions or ConfusionMatrixDisplay.from_estimator.\n",
      "  warnings.warn(msg, category=FutureWarning)\n"
     ]
    },
    {
     "data": {
      "text/plain": [
       "array([[6, 0, 0, 0],\n",
       "       [0, 9, 0, 0],\n",
       "       [0, 0, 3, 0],\n",
       "       [0, 0, 0, 6]])"
      ]
     },
     "execution_count": 11,
     "metadata": {},
     "output_type": "execute_result"
    },
    {
     "data": {
      "image/png": "[encoded data removed]",
      "text/plain": [
       "<Figure size 720x432 with 2 Axes>"
      ]
     },
     "metadata": {
      "needs_background": "light"
     },
     "output_type": "display_data"
    }
   ],
   "source": [
    "#Creating matplotlib axes object to assign figuresize and figure title\n",
    "fig, ax = plt.subplots(figsize=(10, 6))\n",
    "ax.set_title('Confusion Matrx')\n",
    "\n",
    "disp =metrics.plot_confusion_matrix(lm, x_test, y_test, ax = ax)\n",
    "disp.confusion_matrix"
   ]
  },
  {
   "cell_type": "markdown",
   "metadata": {},
   "source": [
    "## Classification Report\n",
    "Classification report is used to measure the quality of prediction from classification algorithm\n",
    " \n",
    "* Precision: Indicates how many classes are correctly classified\n",
    "* Recall: Indicates what proportions of actual positives was identified correctly\n",
    "* F-Score: It is the harmonic mean between precision & recall\n",
    "* Support: It is the number of occurrence of the given class in our dataset"
   ]
  },
  {
   "cell_type": "code",
   "execution_count": 12,
   "metadata": {},
   "outputs": [
    {
     "name": "stdout",
     "output_type": "stream",
     "text": [
      "              precision    recall  f1-score   support\n",
      "\n",
      "           0       1.00      1.00      1.00         6\n",
      "           1       1.00      1.00      1.00         9\n",
      "           2       1.00      1.00      1.00         3\n",
      "           3       1.00      1.00      1.00         6\n",
      "\n",
      "    accuracy                           1.00        24\n",
      "   macro avg       1.00      1.00      1.00        24\n",
      "weighted avg       1.00      1.00      1.00        24\n",
      "\n"
     ]
    }
   ],
   "source": [
    "print(metrics.classification_report(y_test, lm.predict(x_test)))"
   ]
  },
  {
   "cell_type": "code",
   "execution_count": null,
   "metadata": {},
   "outputs": [],
   "source": []
  }
 ],
 "metadata": {
  "kernelspec": {
   "display_name": "Python 3 (ipykernel)",
   "language": "python",
   "name": "python3"
  },
  "language_info": {
   "codemirror_mode": {
    "name": "ipython",
    "version": 3
   },
   "file_extension": ".py",
   "mimetype": "text/x-python",
   "name": "python",
   "nbconvert_exporter": "python",
   "pygments_lexer": "ipython3",
   "version": "3.9.7"
  }
 },
 "nbformat": 4,
 "nbformat_minor": 4
}
